{
 "cells": [
  {
   "cell_type": "code",
   "execution_count": 8,
   "metadata": {
    "scrolled": true
   },
   "outputs": [
    {
     "ename": "IndentationError",
     "evalue": "unindent does not match any outer indentation level (<tokenize>, line 50)",
     "output_type": "error",
     "traceback": [
      "\u001b[1;36m  File \u001b[1;32m\"<tokenize>\"\u001b[1;36m, line \u001b[1;32m50\u001b[0m\n\u001b[1;33m    print(ReadingTextDocuments('./Chapter 03.docx'))\u001b[0m\n\u001b[1;37m    ^\u001b[0m\n\u001b[1;31mIndentationError\u001b[0m\u001b[1;31m:\u001b[0m unindent does not match any outer indentation level\n"
     ]
    }
   ],
   "source": [
    "\n",
    "# # # import docx2txt\n",
    "# # # my_text = docx2txt.process(\"Chapter 3.docx\")\n",
    "# # # print(my_text)\n",
    "\n",
    "\n",
    "\n",
    "# # import docx\n",
    "# # from docx import Document\n",
    "\n",
    "\n",
    "# # for para in document.paragraphs:\n",
    "# #     print(para.text)\n",
    "    \n",
    "\n",
    "# import docx\n",
    "# from docx import Document\n",
    "# docx = open (\"123.docx\", \"rb\")\n",
    "\n",
    "# print(docx)\n",
    "\n",
    "# # docx.close\n",
    "\n",
    "\n",
    "# # Import the module\n",
    "# import docx2txt\n",
    "# import docx\n",
    "# from docx import Document\n",
    "\n",
    "# # Open the .docx file\n",
    "# # text = docx2txt.process(\"123.docx\")\n",
    "# pirnt(text)\n",
    "# document = opendocx('Chapter 3.docx')\n",
    "# fullText=getdocumenttext(document)\n",
    "\n",
    "# pirnt(fullText)\n",
    "\n",
    "\n",
    "\n",
    "\n",
    "import docx\n",
    "def ReadingTextDocuments(fileName);\n",
    "doc = docx.Document(fileName)\n",
    "\n",
    "completedText = []\n",
    " for paragraph in doc.paragraphs:\n",
    "        completeText.append(paragraph.text)\n",
    "        \n",
    "        return '\\n'.join(completedText)\n",
    "    \n",
    "   print(ReadingTextDocuments('Chapter 03.docx'))\n",
    "  \n",
    "    \n"
   ]
  },
  {
   "cell_type": "code",
   "execution_count": null,
   "metadata": {},
   "outputs": [],
   "source": []
  },
  {
   "cell_type": "code",
   "execution_count": null,
   "metadata": {},
   "outputs": [],
   "source": []
  },
  {
   "cell_type": "code",
   "execution_count": null,
   "metadata": {},
   "outputs": [],
   "source": []
  }
 ],
 "metadata": {
  "kernelspec": {
   "display_name": "Python 3",
   "language": "python",
   "name": "python3"
  }
 },
 "nbformat": 4,
 "nbformat_minor": 4
}
